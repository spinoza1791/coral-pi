{
  "nbformat": 4,
  "nbformat_minor": 0,
  "metadata": {
    "colab": {
      "name": "face-detection.ipynb",
      "version": "0.3.2",
      "provenance": [],
      "include_colab_link": true
    },
    "kernelspec": {
      "name": "python3",
      "display_name": "Python 3"
    }
  },
  "cells": [
    {
      "cell_type": "markdown",
      "metadata": {
        "id": "view-in-github",
        "colab_type": "text"
      },
      "source": [
        "<a href=\"https://colab.research.google.com/github/spinoza1791/coral-pi/blob/master/face_detection.ipynb\" target=\"_parent\"><img src=\"https://colab.research.google.com/assets/colab-badge.svg\" alt=\"Open In Colab\"/></a>"
      ]
    },
    {
      "metadata": {
        "id": "LH8N1mXk1Y7d",
        "colab_type": "code",
        "colab": {
          "base_uri": "https://localhost:8080/",
          "height": 385
        },
        "outputId": "948f808d-3f79-4b3e-f3c3-78abfea44881"
      },
      "cell_type": "code",
      "source": [
        "\"\"\"Face detection with bounding boxes and scores via Raspberry Pi camera stream.\"\"\"\n",
        "import argparse\n",
        "import io\n",
        "import time\n",
        "import pygame\n",
        "import numpy as np\n",
        "import picamera\n",
        "from PIL import Image\n",
        "import edgetpu.detection.engine"
      ],
      "execution_count": 1,
      "outputs": [
        {
          "output_type": "error",
          "ename": "ModuleNotFoundError",
          "evalue": "ignored",
          "traceback": [
            "\u001b[0;31m---------------------------------------------------------------------------\u001b[0m",
            "\u001b[0;31mModuleNotFoundError\u001b[0m                       Traceback (most recent call last)",
            "\u001b[0;32m<ipython-input-1-a03f517cdfb3>\u001b[0m in \u001b[0;36m<module>\u001b[0;34m()\u001b[0m\n\u001b[1;32m      3\u001b[0m \u001b[0;32mimport\u001b[0m \u001b[0mio\u001b[0m\u001b[0;34m\u001b[0m\u001b[0;34m\u001b[0m\u001b[0m\n\u001b[1;32m      4\u001b[0m \u001b[0;32mimport\u001b[0m \u001b[0mtime\u001b[0m\u001b[0;34m\u001b[0m\u001b[0;34m\u001b[0m\u001b[0m\n\u001b[0;32m----> 5\u001b[0;31m \u001b[0;32mimport\u001b[0m \u001b[0mpygame\u001b[0m\u001b[0;34m\u001b[0m\u001b[0;34m\u001b[0m\u001b[0m\n\u001b[0m\u001b[1;32m      6\u001b[0m \u001b[0;32mimport\u001b[0m \u001b[0mnumpy\u001b[0m \u001b[0;32mas\u001b[0m \u001b[0mnp\u001b[0m\u001b[0;34m\u001b[0m\u001b[0;34m\u001b[0m\u001b[0m\n\u001b[1;32m      7\u001b[0m \u001b[0;32mimport\u001b[0m \u001b[0mpicamera\u001b[0m\u001b[0;34m\u001b[0m\u001b[0;34m\u001b[0m\u001b[0m\n",
            "\u001b[0;31mModuleNotFoundError\u001b[0m: No module named 'pygame'",
            "",
            "\u001b[0;31m---------------------------------------------------------------------------\u001b[0;32m\nNOTE: If your import is failing due to a missing package, you can\nmanually install dependencies using either !pip or !apt.\n\nTo view examples of installing some common dependencies, click the\n\"Open Examples\" button below.\n\u001b[0;31m---------------------------------------------------------------------------\u001b[0m\n"
          ]
        }
      ]
    },
    {
      "metadata": {
        "id": "SA9cMt6t2D3S",
        "colab_type": "code",
        "colab": {}
      },
      "cell_type": "code",
      "source": [
        "parser = argparse.ArgumentParser()\n",
        "parser.add_argument(\n",
        "'--model', help='File path of Tflite model.', required=True)\n",
        "parser.add_argument(\n",
        "'--label', help='File path of label file.', required=False)\n",
        "args = parser.parse_args()"
      ],
      "execution_count": 0,
      "outputs": []
    },
    {
      "metadata": {
        "id": "Xrp2HxFX16zg",
        "colab_type": "code",
        "colab": {}
      },
      "cell_type": "code",
      "source": [
        "#set all input params equal to the input dimensions expected by the model\n",
        "mdl_dims = 320 #since face model is 320x320\n",
        "\n",
        "engine = edgetpu.detection.engine.DetectionEngine(args.model)\n",
        "pygame.init()\n",
        "screen = pygame.display.set_mode((mdl_dims, mdl_dims), pygame.DOUBLEBUF|pygame.HWSURFACE)\n",
        "pygame.font.init()\n",
        "myfont = pygame.font.SysFont('Comic Sans MS', 20)\n",
        "ms_x = (mdl_dims/2 - 15)\n",
        "ms_y = 10"
      ],
      "execution_count": 0,
      "outputs": []
    },
    {
      "metadata": {
        "id": "uzf43SBy1rmG",
        "colab_type": "code",
        "colab": {}
      },
      "cell_type": "code",
      "source": [
        "camera = picamera.PiCamera()\n",
        "camera.resolution = (mdl_dims, mdl_dims)\n",
        "rgb = bytearray(camera.resolution[0] * camera.resolution[1] * 3)\n",
        "camera.framerate = 40\n",
        "_, width, height, channels = engine.get_input_tensor_shape()"
      ],
      "execution_count": 0,
      "outputs": []
    },
    {
      "metadata": {
        "id": "I22Y9GWQ1lL1",
        "colab_type": "code",
        "colab": {}
      },
      "cell_type": "code",
      "source": [
        "exitFlag = True\n",
        "while(exitFlag):\n",
        "    for event in pygame.event.get():\n",
        "         if(event.type is pygame.MOUSEBUTTONDOWN or \n",
        "            event.type is pygame.QUIT):\n",
        "             exitFlag = False\n",
        "\n",
        "    stream = io.BytesIO()\n",
        "    camera.capture(stream, use_video_port=True, format='rgb')\n",
        "    stream.seek(0)\n",
        "    stream.readinto(rgb)\n",
        "    input = np.frombuffer(stream.getvalue(), dtype=np.uint8)\n",
        "    start_ms = time.time()\n",
        "    #Set top_k = number of objects you want to detect at a time\n",
        "    results = engine.DetectWithInputTensor(input, top_k=10)\n",
        "    elapsed_ms = time.time() - start_ms\n",
        "    stream.close()\n",
        "    img = pygame.image.frombuffer(rgb[0:\n",
        "    (camera.resolution[0] * camera.resolution[1] * 3)],\n",
        "    camera.resolution, 'RGB')\n",
        "    screen.fill(0)\n",
        "    if img:\n",
        "         screen.blit(img, (0,0))\n",
        "         if results:\n",
        "              for obj in results:\n",
        "                   bbox = obj.bounding_box.flatten().tolist()\n",
        "                   score = round(obj.score,2)\n",
        "                   x1 = round(bbox[0] * mdl_dims)\n",
        "                   y1 = round(bbox[1] * mdl_dims)\n",
        "                   x2 = round(bbox[2] * mdl_dims)\n",
        "                   y2 = round(bbox[3] * mdl_dims)\n",
        "                   rect_width = x2 - x1\n",
        "                   rect_height = y2 - y1\n",
        "                   class_score = \"%.2f\" % (score)\n",
        "                   fnt_class_score = myfont.render(class_score, False, (255,255,255))\n",
        "                   screen.blit(fnt_class_score,(x1, y1-15))\n",
        "                   ms = \"%s%.2fms\" % (\"face \", elapsed_ms*1000) \n",
        "                   fnt_ms = myfont.render(ms, False, (255,255,255)) \n",
        "                   screen.blit(fnt_ms,(ms_x, ms_y))\n",
        "                   pygame.draw.rect(screen, (0,0,255), (x1, y1, rect_width, rect_height), 2)\n",
        "\n",
        "    pygame.display.update()\n",
        "\n",
        "pygame.display.quit()"
      ],
      "execution_count": 0,
      "outputs": []
    }
  ]
}